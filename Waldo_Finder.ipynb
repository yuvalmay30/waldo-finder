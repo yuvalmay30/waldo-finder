{
  "cells": [
    {
      "cell_type": "markdown",
      "metadata": {
        "id": "view-in-github",
        "colab_type": "text"
      },
      "source": [
        "<a href=\"https://colab.research.google.com/github/yuvalmay30/waldo-finder/blob/main/Waldo_Finder.ipynb\" target=\"_parent\"><img src=\"https://colab.research.google.com/assets/colab-badge.svg\" alt=\"Open In Colab\"/></a>"
      ]
    },
    {
      "cell_type": "markdown",
      "metadata": {
        "id": "7mGmQbAO5pQb"
      },
      "source": [
        "# Setup\n",
        "\n",
        "Clone repo, install dependencies and check PyTorch and GPU."
      ]
    },
    {
      "cell_type": "code",
      "source": [
        "from google.colab import drive\n",
        "drive.mount('/content/drive')"
      ],
      "metadata": {
        "colab": {
          "base_uri": "https://localhost:8080/"
        },
        "id": "-uA3WLcmdnUD",
        "outputId": "70412c47-3be0-468a-a3d3-82c1dab1b08f"
      },
      "execution_count": 1,
      "outputs": [
        {
          "output_type": "stream",
          "name": "stdout",
          "text": [
            "Mounted at /content/drive\n"
          ]
        }
      ]
    },
    {
      "cell_type": "code",
      "execution_count": 2,
      "metadata": {
        "colab": {
          "base_uri": "https://localhost:8080/"
        },
        "id": "wbvMlHd_QwMG",
        "outputId": "a554b20e-8749-4c2c-ad4c-cb09644853db"
      },
      "outputs": [
        {
          "output_type": "stream",
          "name": "stderr",
          "text": [
            "YOLOv5 🚀 v6.1-174-gc4cb7c6 torch 1.11.0+cu113 CUDA:0 (Tesla K80, 11441MiB)\n"
          ]
        },
        {
          "output_type": "stream",
          "name": "stdout",
          "text": [
            "Setup complete ✅ (2 CPUs, 12.7 GB RAM, 38.1/78.2 GB disk)\n"
          ]
        }
      ],
      "source": [
        "!git clone https://github.com/ultralytics/yolov5  # clone\n",
        "%cd yolov5\n",
        "%pip install -qr requirements.txt  # install\n",
        "\n",
        "import torch\n",
        "from yolov5 import utils\n",
        "display = utils.notebook_init()  # checks"
      ]
    },
    {
      "cell_type": "code",
      "execution_count": 3,
      "metadata": {
        "id": "-66x0GAEPfH6"
      },
      "outputs": [],
      "source": [
        "# %cd yolov5\n",
        "import utils\n",
        "from IPython import display\n",
        "from IPython.display import clear_output\n",
        "from pathlib import Path\n",
        "import yaml\n",
        "import matplotlib.pyplot as plt\n",
        "import matplotlib.image as mpimg\n",
        "import glob\n",
        "\n",
        "\n",
        "%matplotlib inline"
      ]
    },
    {
      "cell_type": "markdown",
      "metadata": {
        "id": "Isvd63dBPpHE"
      },
      "source": [
        "# Data Importing"
      ]
    },
    {
      "cell_type": "code",
      "source": [
        "%rm -r ../datasets\n",
        "%rm -r ../waldo-finder"
      ],
      "metadata": {
        "colab": {
          "base_uri": "https://localhost:8080/"
        },
        "id": "UMuvxgnd1pMH",
        "outputId": "cdf022f0-a8ba-4fb4-cb5f-412ed8789ff1"
      },
      "execution_count": 4,
      "outputs": [
        {
          "output_type": "stream",
          "name": "stdout",
          "text": [
            "rm: cannot remove '../datasets': No such file or directory\n",
            "rm: cannot remove '../waldo-finder': No such file or directory\n"
          ]
        }
      ]
    },
    {
      "cell_type": "code",
      "execution_count": 5,
      "metadata": {
        "colab": {
          "base_uri": "https://localhost:8080/"
        },
        "id": "KElNoas7RVyl",
        "outputId": "a387ce6f-b4a6-4931-fdf6-e927a4a4d38c"
      },
      "outputs": [
        {
          "output_type": "stream",
          "name": "stdout",
          "text": [
            "/content\n",
            "Cloning into 'waldo-finder'...\n",
            "remote: Enumerating objects: 4769, done.\u001b[K\n",
            "remote: Counting objects: 100% (25/25), done.\u001b[K\n",
            "remote: Compressing objects: 100% (23/23), done.\u001b[K\n",
            "remote: Total 4769 (delta 11), reused 6 (delta 1), pack-reused 4744\u001b[K\n",
            "Receiving objects: 100% (4769/4769), 923.62 MiB | 26.81 MiB/s, done.\n",
            "Resolving deltas: 100% (114/114), done.\n",
            "Checking out files: 100% (3093/3093), done.\n",
            "/content/yolov5\n"
          ]
        }
      ],
      "source": [
        "%cd ..\n",
        "!git clone https://github.com/yuvalmay30/waldo-finder.git  # clone\n",
        "%cd yolov5/"
      ]
    },
    {
      "cell_type": "code",
      "execution_count": 6,
      "metadata": {
        "id": "DqYnbaFOdiFf"
      },
      "outputs": [],
      "source": [
        "%cp -R ../waldo-finder/datasets ../datasets\n",
        "%cp -R ../drive/MyDrive/CV\\ Projects/Waldo\\ Finder/last_yolov5x_200epochs_freeze.pt ../yolov5/models/"
      ]
    },
    {
      "cell_type": "code",
      "execution_count": 7,
      "metadata": {
        "id": "EElT6CRwZGJd"
      },
      "outputs": [],
      "source": [
        "import shutil\n",
        "\n",
        "def copy_dataset_yaml_to_yolo_data_directory(dataset_dir_name):\n",
        "  source_file = f'../datasets/{dataset_dir_name}/{dataset_dir_name}.yaml'\n",
        "  destination_file = f'./data/{dataset_dir_name}.yaml'\n",
        "  \n",
        "  shutil.copy(source_file, destination_file)\n",
        "\n",
        "\n",
        "copy_dataset_yaml_to_yolo_data_directory('source_dataset_v2')\n",
        "copy_dataset_yaml_to_yolo_data_directory('source_dataset_v2_cropped_val')\n",
        "copy_dataset_yaml_to_yolo_data_directory('source_dataset_v2_tiled_5_4')"
      ]
    },
    {
      "cell_type": "markdown",
      "source": [
        "## Weights & Biases"
      ],
      "metadata": {
        "id": "yxtOa9U6l7I3"
      }
    },
    {
      "cell_type": "code",
      "execution_count": 8,
      "metadata": {
        "colab": {
          "base_uri": "https://localhost:8080/",
          "height": 0
        },
        "id": "2fLAV42oNb7M",
        "outputId": "ad5b1643-3705-486d-8877-dc94cdbfc7a9"
      },
      "outputs": [
        {
          "output_type": "stream",
          "name": "stdout",
          "text": [
            "\u001b[K     |████████████████████████████████| 1.8 MB 41.7 MB/s \n",
            "\u001b[K     |████████████████████████████████| 181 kB 79.9 MB/s \n",
            "\u001b[K     |████████████████████████████████| 144 kB 77.7 MB/s \n",
            "\u001b[K     |████████████████████████████████| 63 kB 2.2 MB/s \n",
            "\u001b[?25h  Building wheel for pathtools (setup.py) ... \u001b[?25l\u001b[?25hdone\n"
          ]
        },
        {
          "output_type": "display_data",
          "data": {
            "text/plain": [
              "<IPython.core.display.Javascript object>"
            ],
            "application/javascript": [
              "\n",
              "        window._wandbApiKey = new Promise((resolve, reject) => {\n",
              "            function loadScript(url) {\n",
              "            return new Promise(function(resolve, reject) {\n",
              "                let newScript = document.createElement(\"script\");\n",
              "                newScript.onerror = reject;\n",
              "                newScript.onload = resolve;\n",
              "                document.body.appendChild(newScript);\n",
              "                newScript.src = url;\n",
              "            });\n",
              "            }\n",
              "            loadScript(\"https://cdn.jsdelivr.net/npm/postmate/build/postmate.min.js\").then(() => {\n",
              "            const iframe = document.createElement('iframe')\n",
              "            iframe.style.cssText = \"width:0;height:0;border:none\"\n",
              "            document.body.appendChild(iframe)\n",
              "            const handshake = new Postmate({\n",
              "                container: iframe,\n",
              "                url: 'https://wandb.ai/authorize'\n",
              "            });\n",
              "            const timeout = setTimeout(() => reject(\"Couldn't auto authenticate\"), 5000)\n",
              "            handshake.then(function(child) {\n",
              "                child.on('authorize', data => {\n",
              "                    clearTimeout(timeout)\n",
              "                    resolve(data)\n",
              "                });\n",
              "            });\n",
              "            })\n",
              "        });\n",
              "    "
            ]
          },
          "metadata": {}
        },
        {
          "output_type": "stream",
          "name": "stderr",
          "text": [
            "\u001b[34m\u001b[1mwandb\u001b[0m: Appending key for api.wandb.ai to your netrc file: /root/.netrc\n"
          ]
        },
        {
          "output_type": "execute_result",
          "data": {
            "text/plain": [
              "True"
            ]
          },
          "metadata": {},
          "execution_count": 8
        }
      ],
      "source": [
        "%pip install -q wandb\n",
        "import wandb\n",
        "wandb.login()"
      ]
    },
    {
      "cell_type": "markdown",
      "source": [
        "## Training"
      ],
      "metadata": {
        "id": "ufNZIaoLltK_"
      }
    },
    {
      "cell_type": "code",
      "execution_count": null,
      "metadata": {
        "colab": {
          "base_uri": "https://localhost:8080/"
        },
        "id": "1NcFxRcFdJ_O",
        "outputId": "294f8b31-d75a-4691-8900-a554fbfa54bb"
      },
      "outputs": [
        {
          "output_type": "stream",
          "name": "stdout",
          "text": [
            "Downloading https://ultralytics.com/assets/Arial.ttf to /root/.config/Ultralytics/Arial.ttf...\n",
            "\u001b[34m\u001b[1mwandb\u001b[0m: Currently logged in as: \u001b[33myuvalmay30\u001b[0m (use `wandb login --relogin` to force relogin)\n",
            "\u001b[34m\u001b[1mtrain: \u001b[0mweights=yolov5s.pt, cfg=, data=source_dataset_v2.yaml, hyp=data/hyps/hyp.scratch-low.yaml, epochs=10, batch_size=16, imgsz=640, rect=False, resume=False, nosave=False, noval=False, noautoanchor=False, evolve=None, bucket=, cache=ram, image_weights=False, device=, multi_scale=False, single_cls=False, optimizer=SGD, sync_bn=False, workers=8, project=runs/train, name=exp, exist_ok=False, quad=False, cos_lr=False, label_smoothing=0.0, patience=100, freeze=[0], save_period=-1, local_rank=-1, entity=None, upload_dataset=False, bbox_interval=-1, artifact_alias=latest\n",
            "remote: Enumerating objects: 4, done.\u001b[K\n",
            "remote: Counting objects: 100% (4/4), done.\u001b[K\n",
            "remote: Compressing objects: 100% (4/4), done.\u001b[K\n",
            "remote: Total 4 (delta 0), reused 0 (delta 0), pack-reused 0\u001b[K\n",
            "Unpacking objects: 100% (4/4), done.\n",
            "From https://github.com/ultralytics/yolov5\n",
            "   c65f990..e062169  pre-commit-ci-update-config -> origin/pre-commit-ci-update-config\n",
            "\u001b[34m\u001b[1mgithub: \u001b[0mup to date with https://github.com/ultralytics/yolov5 ✅\n",
            "YOLOv5 🚀 v6.1-95-gea72b84 torch 1.10.0+cu111 CUDA:0 (Tesla P100-PCIE-16GB, 16281MiB)\n",
            "\n",
            "\u001b[34m\u001b[1mhyperparameters: \u001b[0mlr0=0.01, lrf=0.01, momentum=0.937, weight_decay=0.0005, warmup_epochs=3.0, warmup_momentum=0.8, warmup_bias_lr=0.1, box=0.05, cls=0.5, cls_pw=1.0, obj=1.0, obj_pw=1.0, iou_t=0.2, anchor_t=4.0, fl_gamma=0.0, hsv_h=0.015, hsv_s=0.7, hsv_v=0.4, degrees=0.0, translate=0.1, scale=0.5, shear=0.0, perspective=0.0, flipud=0.0, fliplr=0.5, mosaic=1.0, mixup=0.0, copy_paste=0.0\n",
            "\u001b[34m\u001b[1mTensorBoard: \u001b[0mStart with 'tensorboard --logdir runs/train', view at http://localhost:6006/\n",
            "\u001b[34m\u001b[1mwandb\u001b[0m: Tracking run with wandb version 0.12.11\n",
            "\u001b[34m\u001b[1mwandb\u001b[0m: Run data is saved locally in \u001b[35m\u001b[1m/content/yolov5/wandb/run-20220404_202128-1pk150ma\u001b[0m\n",
            "\u001b[34m\u001b[1mwandb\u001b[0m: Run \u001b[1m`wandb offline`\u001b[0m to turn off syncing.\n",
            "\u001b[34m\u001b[1mwandb\u001b[0m: Syncing run \u001b[33mlight-plasma-39\u001b[0m\n",
            "\u001b[34m\u001b[1mwandb\u001b[0m: ⭐️ View project at \u001b[34m\u001b[4mhttps://wandb.ai/yuvalmay30/YOLOv5\u001b[0m\n",
            "\u001b[34m\u001b[1mwandb\u001b[0m: 🚀 View run at \u001b[34m\u001b[4mhttps://wandb.ai/yuvalmay30/YOLOv5/runs/1pk150ma\u001b[0m\n",
            "Downloading https://github.com/ultralytics/yolov5/releases/download/v6.0/yolov5s.pt to yolov5s.pt...\n",
            "100% 14.0M/14.0M [00:01<00:00, 11.3MB/s]\n",
            "\n",
            "Overriding model.yaml nc=80 with nc=1\n",
            "\n",
            "                 from  n    params  module                                  arguments                     \n",
            "  0                -1  1      3520  models.common.Conv                      [3, 32, 6, 2, 2]              \n",
            "  1                -1  1     18560  models.common.Conv                      [32, 64, 3, 2]                \n",
            "  2                -1  1     18816  models.common.C3                        [64, 64, 1]                   \n",
            "  3                -1  1     73984  models.common.Conv                      [64, 128, 3, 2]               \n",
            "  4                -1  2    115712  models.common.C3                        [128, 128, 2]                 \n",
            "  5                -1  1    295424  models.common.Conv                      [128, 256, 3, 2]              \n",
            "  6                -1  3    625152  models.common.C3                        [256, 256, 3]                 \n",
            "  7                -1  1   1180672  models.common.Conv                      [256, 512, 3, 2]              \n",
            "  8                -1  1   1182720  models.common.C3                        [512, 512, 1]                 \n",
            "  9                -1  1    656896  models.common.SPPF                      [512, 512, 5]                 \n",
            " 10                -1  1    131584  models.common.Conv                      [512, 256, 1, 1]              \n",
            " 11                -1  1         0  torch.nn.modules.upsampling.Upsample    [None, 2, 'nearest']          \n",
            " 12           [-1, 6]  1         0  models.common.Concat                    [1]                           \n",
            " 13                -1  1    361984  models.common.C3                        [512, 256, 1, False]          \n",
            " 14                -1  1     33024  models.common.Conv                      [256, 128, 1, 1]              \n",
            " 15                -1  1         0  torch.nn.modules.upsampling.Upsample    [None, 2, 'nearest']          \n",
            " 16           [-1, 4]  1         0  models.common.Concat                    [1]                           \n",
            " 17                -1  1     90880  models.common.C3                        [256, 128, 1, False]          \n",
            " 18                -1  1    147712  models.common.Conv                      [128, 128, 3, 2]              \n",
            " 19          [-1, 14]  1         0  models.common.Concat                    [1]                           \n",
            " 20                -1  1    296448  models.common.C3                        [256, 256, 1, False]          \n",
            " 21                -1  1    590336  models.common.Conv                      [256, 256, 3, 2]              \n",
            " 22          [-1, 10]  1         0  models.common.Concat                    [1]                           \n",
            " 23                -1  1   1182720  models.common.C3                        [512, 512, 1, False]          \n",
            " 24      [17, 20, 23]  1     16182  models.yolo.Detect                      [1, [[10, 13, 16, 30, 33, 23], [30, 61, 62, 45, 59, 119], [116, 90, 156, 198, 373, 326]], [128, 256, 512]]\n",
            "Model summary: 270 layers, 7022326 parameters, 7022326 gradients, 15.8 GFLOPs\n",
            "\n",
            "Traceback (most recent call last):\n",
            "  File \"train.py\", line 662, in <module>\n",
            "    main(opt)\n",
            "  File \"train.py\", line 557, in main\n",
            "    train(opt.hyp, opt, device, callbacks)\n",
            "  File \"train.py\", line 120, in train\n",
            "    model = Model(cfg or ckpt['model'].yaml, ch=3, nc=nc, anchors=hyp.get('anchors')).to(device)  # create\n",
            "  File \"/usr/local/lib/python3.7/dist-packages/torch/nn/modules/module.py\", line 899, in to\n",
            "    return self._apply(convert)\n",
            "  File \"/content/yolov5/models/yolo.py\", line 239, in _apply\n",
            "    self = super()._apply(fn)\n",
            "  File \"/usr/local/lib/python3.7/dist-packages/torch/nn/modules/module.py\", line 570, in _apply\n",
            "    module._apply(fn)\n",
            "  File \"/usr/local/lib/python3.7/dist-packages/torch/nn/modules/module.py\", line 570, in _apply\n",
            "    module._apply(fn)\n",
            "  File \"/usr/local/lib/python3.7/dist-packages/torch/nn/modules/module.py\", line 570, in _apply\n",
            "    module._apply(fn)\n",
            "  File \"/usr/local/lib/python3.7/dist-packages/torch/nn/modules/module.py\", line 593, in _apply\n",
            "    param_applied = fn(param)\n",
            "  File \"/usr/local/lib/python3.7/dist-packages/torch/nn/modules/module.py\", line 897, in convert\n",
            "    return t.to(device, dtype if t.is_floating_point() or t.is_complex() else None, non_blocking)\n",
            "KeyboardInterrupt\n",
            "\n",
            "\u001b[34m\u001b[1mwandb\u001b[0m: Waiting for W&B process to finish... \u001b[31m(failed 255).\u001b[0m Press Control-C to abort syncing.\n",
            "/usr/lib/python3.7/multiprocessing/semaphore_tracker.py:144: UserWarning: semaphore_tracker: There appear to be 6 leaked semaphores to clean up at shutdown\n",
            "  len(cache))\n",
            "^C\n"
          ]
        }
      ],
      "source": [
        "# !python train.py --batch 16 --epochs 10 --data source_dataset_v2.yaml --weights yolov5x.pt --cache --freeze 10\n",
        "!python train.py --batch 16 --epochs 10 --data source_dataset_v2.yaml --weights yolov5s.pt --cache"
      ]
    },
    {
      "cell_type": "markdown",
      "source": [
        "## Utils functions for predictions"
      ],
      "metadata": {
        "id": "r5V9BnoQNN0U"
      }
    },
    {
      "cell_type": "code",
      "source": [
        "from typing import Tuple\n",
        "import cv2\n",
        "import os\n",
        "import math\n",
        "import pdb\n",
        "import numpy as np\n",
        "import pandas as pd\n",
        "from google.colab.patches import cv2_imshow\n",
        "from pathlib import Path\n",
        "\n",
        "# %load ../yolov5/utils/general.py\n",
        "# from utils.general import xywhn2xyxy\n",
        "\n",
        "\n",
        "def xywhn2xyxyn(xywhn):\n",
        "  xyxyn = xywhn.clone()\n",
        "\n",
        "  xyxyn[:, 0] = xywhn[:, 0] - xywhn[:, 2] / 2\n",
        "  xyxyn[:, 1] = xywhn[:, 1] - xywhn[:, 3] / 2\n",
        "  xyxyn[:, 2] = xywhn[:, 0] + xywhn[:, 2] / 2\n",
        "  xyxyn[:, 3] = xywhn[:, 1] + xywhn[:, 3] / 2\n",
        "\n",
        "  return xyxyn\n",
        "\n",
        "\n",
        "def sort_predictions_by_confidence(predictions: pd.DataFrame):\n",
        "  return predictions.sort_values(by=['confidence'], ascending=False)\n",
        "\n",
        "\n",
        "def convert_predictions_bboxes_values_to_int(predictions):\n",
        "  return predictions.astype({'xmin': 'int', 'ymin': 'int', 'xmax': 'int', 'ymax': 'int'})\n",
        "\n",
        "\n",
        "def get_top_predictions(predictions, top=5, convert_to_int=True):\n",
        "  sorted_predictions = sort_predictions_by_confidence(predictions)\n",
        "  top_predictions = sorted_predictions[:top]\n",
        "  top_predictions = top_predictions[['xmin', 'ymin', 'xmax', 'ymax', 'confidence', 'class']]\n",
        "  top_predictions = top_predictions.astype({'class': 'int'})\n",
        "\n",
        "  if convert_to_int:\n",
        "    top_predictions = convert_predictions_bboxes_values_to_int(top_predictions)\n",
        "    top_predictions = top_predictions.to_numpy()\n",
        "\n",
        "  return top_predictions\n",
        "\n",
        "\n",
        "def get_normalized_top_predictions_from_model_results(results, top=5, convert_to_int=True):\n",
        "  predictions = results.pandas().xyxyn[0]\n",
        "  top_predictions = get_top_predictions(predictions, top, convert_to_int)\n",
        "  \n",
        "  top_predictions = torch.tensor(top_predictions.values)\n",
        "  return top_predictions\n",
        "\n",
        "\n",
        "def get_denormalized_top_predictions_from_model_results(results, top=5, convert_to_int=True):\n",
        "  predictions = results.pandas().xyxy[0]\n",
        "  top_predictions = get_top_predictions(predictions, top, convert_to_int)\n",
        "\n",
        "  # top_predictions = torch.tensor(top_predictions.values)\n",
        "  return top_predictions\n",
        "\n",
        "\n",
        "def draw_prediction_bbox(image, top_left_coordinates: Tuple, bottom_right_coordinates: Tuple):\n",
        "  red_color = (0, 0, 255)\n",
        "  thickness = 6\n",
        "  \n",
        "  cv2.rectangle(image, top_left_coordinates, bottom_right_coordinates, red_color, thickness)\n",
        "  return image\n",
        "\n",
        "\n",
        "def draw_text_on_image(image, confidence, location):\n",
        "  text = 'Waldo ' + str(confidence)\n",
        "  font = cv2.FONT_HERSHEY_SIMPLEX\n",
        "  font_scale = 0.9\n",
        "  red_color = (0, 0, 255)\n",
        "  thickness = 2\n",
        "  \n",
        "  cv2.putText(image, text, location, font, font_scale, red_color, thickness)\n",
        "  return image\n",
        "\n",
        "\n",
        "def draw_predictions_on_image(image, predictions):\n",
        "  for prediction in predictions:\n",
        "    x1, y1, x2, y2, confidence, _ = prediction\n",
        "    x1, y1, x2, y2 = int(x1), int(y1), int(x2), int(y2)\n",
        "\n",
        "    image = draw_prediction_bbox(image, (x1, y1), (x2, y2))\n",
        "    image = draw_text_on_image(image, confidence, (x1, y1))\n",
        "  \n",
        "  return image\n",
        "\n",
        "\n",
        "def change_file_suffix_to_txt(filename: str) -> str:\n",
        "  filename = filename[:-3] + 'txt'\n",
        "  return filename\n",
        "\n",
        "\n",
        "def load_labels(labels_dir_path: str, filename: str):\n",
        "  labels_filename = change_file_suffix_to_txt(filename)\n",
        "  labels_file_path = Path(labels_dir_path) / labels_filename\n",
        "\n",
        "  with open(labels_file_path) as labels_file:\n",
        "    labels_as_strings = labels_file.readlines()\n",
        "  \n",
        "  labels = torch.tensor([])\n",
        "  for label in labels_as_strings:\n",
        "    data = label.split()\n",
        "    data = [float(element) for element in data]\n",
        "    data = torch.tensor(data)\n",
        "    \n",
        "    labels = torch.cat((labels, data))\n",
        "  \n",
        "  if labels.dim() == 1:\n",
        "    labels = labels.unsqueeze(dim=0)\n",
        "\n",
        "  return labels\n",
        "\n",
        "\n",
        "def draw_label_bbox(image, top_left_coordinates: Tuple, bottom_right_coordinates: Tuple):\n",
        "  green_color = (0, 255, 0)\n",
        "  thickness = 4\n",
        "  \n",
        "  cv2.rectangle(image, top_left_coordinates, bottom_right_coordinates, green_color, thickness)\n",
        "  return image\n",
        "\n",
        "\n",
        "def extract_bbox_from_label(label, img_width, img_height): \n",
        "  w, h = img_width, img_height\n",
        "\n",
        "  bbox = label[1:]\n",
        "  x, y, w, h = bbox * torch.tensor([w, h, w, h])\n",
        "  x1, x2 = int(x)-int(w/2), int(x)+int(w/2)\n",
        "  y1, y2 = int(y)-int(h/2), int(y)+int(h/2)\n",
        "\n",
        "  return x1, y1, x2, y2\n",
        "\n",
        "\n",
        "def draw_labels_on_image(image, labels):\n",
        "  h, w = image.shape[:2]\n",
        "\n",
        "  for label in labels:\n",
        "    xmin, ymin, xmax, ymax = extract_bbox_from_label(label, w, h)\n",
        "    image = draw_label_bbox(image, (xmin, ymin), (xmax, ymax))\n",
        "\n",
        "  return image\n",
        "\n",
        "\n",
        "def get_image_from_model_results(results):\n",
        "  img = results.imgs[0]\n",
        "  img = cv2.cvtColor(img, cv2.COLOR_BGR2RGB)\n",
        "  return img "
      ],
      "metadata": {
        "id": "q-0xGbjUNKgn"
      },
      "execution_count": 18,
      "outputs": []
    },
    {
      "cell_type": "markdown",
      "source": [
        "# Validation"
      ],
      "metadata": {
        "id": "lUZWMiCWmDQv"
      }
    },
    {
      "cell_type": "code",
      "source": [
        "def load_model():\n",
        "  model = torch.hub.load('./', 'custom', source='local', path='./models/last_yolov5x_200epochs_freeze.pt', force_reload=True)\n",
        "  model.conf = 0.00001\n",
        "  return model"
      ],
      "metadata": {
        "id": "2ibzzX08Awrl"
      },
      "execution_count": 9,
      "outputs": []
    },
    {
      "cell_type": "markdown",
      "source": [
        "Pseudo-code:\n",
        "\n",
        "1. Load model\n",
        "2. Run detection on an image\n",
        "3. Get top 5 predicitons\n",
        "4. Calculate IOU with the grouth truth  \n",
        "  a. Use `process_batch` function from yolov5  \n",
        "  b. Set the top normalized detections (xmin, ymin, xmax, ymax, confidence, class)  \n",
        "  c. Set the normalized labels\n",
        "5. Keep the prediction with IOU > 0.1\n",
        "6. If there are any predictions left, mark this image as `hit`\n",
        "7. Calculate mean"
      ],
      "metadata": {
        "id": "D4QER4pfA5zI"
      }
    },
    {
      "cell_type": "code",
      "source": [
        "%rm -r ./runs/error_analysis/\n",
        "%mkdir runs\n",
        "%mkdir runs/error_analysis"
      ],
      "metadata": {
        "colab": {
          "base_uri": "https://localhost:8080/"
        },
        "id": "v_Cd-Q-IK2K3",
        "outputId": "2c5c3150-8d57-444b-b269-24f9a207e0c9"
      },
      "execution_count": 10,
      "outputs": [
        {
          "output_type": "stream",
          "name": "stdout",
          "text": [
            "rm: cannot remove './runs/error_analysis/': No such file or directory\n"
          ]
        }
      ]
    },
    {
      "cell_type": "code",
      "source": [
        "%load ../yolov5/val.py\n",
        "from val import process_batch\n",
        "\n",
        "\n",
        "def validate(images_path, labels_dir_path):\n",
        "  error_analysis_path = Path('./runs') / 'error_analysis'\n",
        "  hits = np.array([])\n",
        "  iou_threshold = torch.tensor([0.1])\n",
        "  \n",
        "  model = load_model()\n",
        "\n",
        "  for dir_entry in os.scandir(images_path):\n",
        "    image_path = dir_entry.path\n",
        "    results = model(image_path, size=2048)\n",
        "\n",
        "    top_predictions = get_normalized_top_predictions_from_model_results(results, convert_to_int=False)\n",
        "    \n",
        "    labels_file_name = dir_entry.name\n",
        "    labels = load_labels(labels_dir_path, labels_file_name)\n",
        "    labels_bbox_as_xywhn = labels[:, 1:]\n",
        "\n",
        "    labels_bbox_as_xyxyn = xywhn2xyxyn(labels_bbox_as_xywhn)\n",
        "    labels[:, 1:] = labels_bbox_as_xyxyn\n",
        "\n",
        "    true_positives = process_batch(top_predictions, labels, iou_threshold)\n",
        "\n",
        "    is_hit = torch.any(true_positives)\n",
        "    hits = np.append(hits, is_hit)\n",
        "\n",
        "    if not is_hit:\n",
        "      img_with_drawn_predictions_and_labels = draw_labels_and_top_predictions_for_single_image(results, labels_dir_path, labels_file_name)\n",
        "      save_file_path = error_analysis_path / labels_file_name\n",
        "      cv2.imwrite(save_file_path, img_with_drawn_predictions_and_labels)\n",
        "\n",
        "\n",
        "  hit_rate = hits.mean()\n",
        "  print(f'The hit-rate is: {hit_rate}')\n",
        "\n",
        "\n",
        "images_path = '../datasets/source_dataset_v2_cropped_val/valid/images'\n",
        "labels_path = '../datasets/source_dataset_v2_cropped_val/valid/labels'\n",
        "\n",
        "validate(images_path, labels_path)  "
      ],
      "metadata": {
        "colab": {
          "base_uri": "https://localhost:8080/"
        },
        "id": "G4zyPfjPLX63",
        "outputId": "318adce5-769b-4130-8bf5-fe740c9d80ed"
      },
      "execution_count": 27,
      "outputs": [
        {
          "output_type": "stream",
          "name": "stderr",
          "text": [
            "\u001b[31m\u001b[1mrequirements:\u001b[0m PyYAML>=5.3.1 not found and is required by YOLOv5, attempting auto-update...\n",
            "Requirement already satisfied: PyYAML>=5.3.1 in /usr/local/lib/python3.7/dist-packages (6.0)\n",
            "\n",
            "\u001b[31m\u001b[1mrequirements:\u001b[0m 1 package updated per /content/yolov5/requirements.txt\n",
            "\u001b[31m\u001b[1mrequirements:\u001b[0m ⚠️ \u001b[1mRestart runtime or rerun command for updates to take effect\u001b[0m\n",
            "\n",
            "YOLOv5 🚀 v6.1-174-gc4cb7c6 torch 1.11.0+cu113 CUDA:0 (Tesla K80, 11441MiB)\n",
            "\n",
            "Fusing layers... \n",
            "Model summary: 444 layers, 86173414 parameters, 0 gradients\n",
            "Adding AutoShape... \n"
          ]
        },
        {
          "output_type": "stream",
          "name": "stdout",
          "text": [
            "The hit-rate is: 0.9\n"
          ]
        }
      ]
    },
    {
      "cell_type": "code",
      "source": [
        "test_images_path = '../datasets/source_dataset_v2_cropped_val/test/images'\n",
        "test_labels_path = '../datasets/source_dataset_v2_cropped_val/test/labels'\n",
        "\n",
        "validate(test_images_path, test_labels_path)  "
      ],
      "metadata": {
        "colab": {
          "base_uri": "https://localhost:8080/",
          "height": 565
        },
        "id": "AwSBtX1AkC2X",
        "outputId": "95f16b93-20d0-4ee4-ffc0-e233b9dff447"
      },
      "execution_count": 28,
      "outputs": [
        {
          "output_type": "stream",
          "name": "stderr",
          "text": [
            "\u001b[31m\u001b[1mrequirements:\u001b[0m PyYAML>=5.3.1 not found and is required by YOLOv5, attempting auto-update...\n",
            "Requirement already satisfied: PyYAML>=5.3.1 in /usr/local/lib/python3.7/dist-packages (6.0)\n",
            "\n",
            "\u001b[31m\u001b[1mrequirements:\u001b[0m 1 package updated per /content/yolov5/requirements.txt\n",
            "\u001b[31m\u001b[1mrequirements:\u001b[0m ⚠️ \u001b[1mRestart runtime or rerun command for updates to take effect\u001b[0m\n",
            "\n",
            "YOLOv5 🚀 v6.1-174-gc4cb7c6 torch 1.11.0+cu113 CUDA:0 (Tesla K80, 11441MiB)\n",
            "\n",
            "Fusing layers... \n",
            "Model summary: 444 layers, 86173414 parameters, 0 gradients\n",
            "Adding AutoShape... \n"
          ]
        },
        {
          "output_type": "error",
          "ename": "RuntimeError",
          "evalue": "ignored",
          "traceback": [
            "\u001b[0;31m---------------------------------------------------------------------------\u001b[0m",
            "\u001b[0;31mRuntimeError\u001b[0m                              Traceback (most recent call last)",
            "\u001b[0;32m<ipython-input-28-8ae56da71ced>\u001b[0m in \u001b[0;36m<module>\u001b[0;34m()\u001b[0m\n\u001b[1;32m      2\u001b[0m \u001b[0mtest_labels_path\u001b[0m \u001b[0;34m=\u001b[0m \u001b[0;34m'../datasets/source_dataset_v2_cropped_val/test/labels'\u001b[0m\u001b[0;34m\u001b[0m\u001b[0;34m\u001b[0m\u001b[0m\n\u001b[1;32m      3\u001b[0m \u001b[0;34m\u001b[0m\u001b[0m\n\u001b[0;32m----> 4\u001b[0;31m \u001b[0mvalidate\u001b[0m\u001b[0;34m(\u001b[0m\u001b[0mtest_images_path\u001b[0m\u001b[0;34m,\u001b[0m \u001b[0mtest_labels_path\u001b[0m\u001b[0;34m)\u001b[0m\u001b[0;34m\u001b[0m\u001b[0;34m\u001b[0m\u001b[0m\n\u001b[0m",
            "\u001b[0;32m<ipython-input-27-7ddc0cfe20a7>\u001b[0m in \u001b[0;36mvalidate\u001b[0;34m(images_path, labels_dir_path)\u001b[0m\n\u001b[1;32m     23\u001b[0m     \u001b[0mlabels\u001b[0m\u001b[0;34m[\u001b[0m\u001b[0;34m:\u001b[0m\u001b[0;34m,\u001b[0m \u001b[0;36m1\u001b[0m\u001b[0;34m:\u001b[0m\u001b[0;34m]\u001b[0m \u001b[0;34m=\u001b[0m \u001b[0mlabels_bbox_as_xyxyn\u001b[0m\u001b[0;34m\u001b[0m\u001b[0;34m\u001b[0m\u001b[0m\n\u001b[1;32m     24\u001b[0m \u001b[0;34m\u001b[0m\u001b[0m\n\u001b[0;32m---> 25\u001b[0;31m     \u001b[0mtrue_positives\u001b[0m \u001b[0;34m=\u001b[0m \u001b[0mprocess_batch\u001b[0m\u001b[0;34m(\u001b[0m\u001b[0mtop_predictions\u001b[0m\u001b[0;34m,\u001b[0m \u001b[0mlabels\u001b[0m\u001b[0;34m,\u001b[0m \u001b[0miou_threshold\u001b[0m\u001b[0;34m)\u001b[0m\u001b[0;34m\u001b[0m\u001b[0;34m\u001b[0m\u001b[0m\n\u001b[0m\u001b[1;32m     26\u001b[0m \u001b[0;34m\u001b[0m\u001b[0m\n\u001b[1;32m     27\u001b[0m     \u001b[0mis_hit\u001b[0m \u001b[0;34m=\u001b[0m \u001b[0mtorch\u001b[0m\u001b[0;34m.\u001b[0m\u001b[0many\u001b[0m\u001b[0;34m(\u001b[0m\u001b[0mtrue_positives\u001b[0m\u001b[0;34m)\u001b[0m\u001b[0;34m\u001b[0m\u001b[0;34m\u001b[0m\u001b[0m\n",
            "\u001b[0;32m/content/yolov5/val.py\u001b[0m in \u001b[0;36mprocess_batch\u001b[0;34m(detections, labels, iouv)\u001b[0m\n\u001b[1;32m     80\u001b[0m     \"\"\"\n\u001b[1;32m     81\u001b[0m     \u001b[0mcorrect\u001b[0m \u001b[0;34m=\u001b[0m \u001b[0mtorch\u001b[0m\u001b[0;34m.\u001b[0m\u001b[0mzeros\u001b[0m\u001b[0;34m(\u001b[0m\u001b[0mdetections\u001b[0m\u001b[0;34m.\u001b[0m\u001b[0mshape\u001b[0m\u001b[0;34m[\u001b[0m\u001b[0;36m0\u001b[0m\u001b[0;34m]\u001b[0m\u001b[0;34m,\u001b[0m \u001b[0miouv\u001b[0m\u001b[0;34m.\u001b[0m\u001b[0mshape\u001b[0m\u001b[0;34m[\u001b[0m\u001b[0;36m0\u001b[0m\u001b[0;34m]\u001b[0m\u001b[0;34m,\u001b[0m \u001b[0mdtype\u001b[0m\u001b[0;34m=\u001b[0m\u001b[0mtorch\u001b[0m\u001b[0;34m.\u001b[0m\u001b[0mbool\u001b[0m\u001b[0;34m,\u001b[0m \u001b[0mdevice\u001b[0m\u001b[0;34m=\u001b[0m\u001b[0miouv\u001b[0m\u001b[0;34m.\u001b[0m\u001b[0mdevice\u001b[0m\u001b[0;34m)\u001b[0m\u001b[0;34m\u001b[0m\u001b[0;34m\u001b[0m\u001b[0m\n\u001b[0;32m---> 82\u001b[0;31m     \u001b[0miou\u001b[0m \u001b[0;34m=\u001b[0m \u001b[0mbox_iou\u001b[0m\u001b[0;34m(\u001b[0m\u001b[0mlabels\u001b[0m\u001b[0;34m[\u001b[0m\u001b[0;34m:\u001b[0m\u001b[0;34m,\u001b[0m \u001b[0;36m1\u001b[0m\u001b[0;34m:\u001b[0m\u001b[0;34m]\u001b[0m\u001b[0;34m,\u001b[0m \u001b[0mdetections\u001b[0m\u001b[0;34m[\u001b[0m\u001b[0;34m:\u001b[0m\u001b[0;34m,\u001b[0m \u001b[0;34m:\u001b[0m\u001b[0;36m4\u001b[0m\u001b[0;34m]\u001b[0m\u001b[0;34m)\u001b[0m\u001b[0;34m\u001b[0m\u001b[0;34m\u001b[0m\u001b[0m\n\u001b[0m\u001b[1;32m     83\u001b[0m     \u001b[0mx\u001b[0m \u001b[0;34m=\u001b[0m \u001b[0mtorch\u001b[0m\u001b[0;34m.\u001b[0m\u001b[0mwhere\u001b[0m\u001b[0;34m(\u001b[0m\u001b[0;34m(\u001b[0m\u001b[0miou\u001b[0m \u001b[0;34m>=\u001b[0m \u001b[0miouv\u001b[0m\u001b[0;34m[\u001b[0m\u001b[0;36m0\u001b[0m\u001b[0;34m]\u001b[0m\u001b[0;34m)\u001b[0m \u001b[0;34m&\u001b[0m \u001b[0;34m(\u001b[0m\u001b[0mlabels\u001b[0m\u001b[0;34m[\u001b[0m\u001b[0;34m:\u001b[0m\u001b[0;34m,\u001b[0m \u001b[0;36m0\u001b[0m\u001b[0;34m:\u001b[0m\u001b[0;36m1\u001b[0m\u001b[0;34m]\u001b[0m \u001b[0;34m==\u001b[0m \u001b[0mdetections\u001b[0m\u001b[0;34m[\u001b[0m\u001b[0;34m:\u001b[0m\u001b[0;34m,\u001b[0m \u001b[0;36m5\u001b[0m\u001b[0;34m]\u001b[0m\u001b[0;34m)\u001b[0m\u001b[0;34m)\u001b[0m  \u001b[0;31m# IoU above threshold and classes match\u001b[0m\u001b[0;34m\u001b[0m\u001b[0;34m\u001b[0m\u001b[0m\n\u001b[1;32m     84\u001b[0m     \u001b[0;32mif\u001b[0m \u001b[0mx\u001b[0m\u001b[0;34m[\u001b[0m\u001b[0;36m0\u001b[0m\u001b[0;34m]\u001b[0m\u001b[0;34m.\u001b[0m\u001b[0mshape\u001b[0m\u001b[0;34m[\u001b[0m\u001b[0;36m0\u001b[0m\u001b[0;34m]\u001b[0m\u001b[0;34m:\u001b[0m\u001b[0;34m\u001b[0m\u001b[0;34m\u001b[0m\u001b[0m\n",
            "\u001b[0;32m/content/yolov5/utils/metrics.py\u001b[0m in \u001b[0;36mbox_iou\u001b[0;34m(box1, box2)\u001b[0m\n\u001b[1;32m    268\u001b[0m     \u001b[0;31m# inter(N,M) = (rb(N,M,2) - lt(N,M,2)).clamp(0).prod(2)\u001b[0m\u001b[0;34m\u001b[0m\u001b[0;34m\u001b[0m\u001b[0;34m\u001b[0m\u001b[0m\n\u001b[1;32m    269\u001b[0m     \u001b[0;34m(\u001b[0m\u001b[0ma1\u001b[0m\u001b[0;34m,\u001b[0m \u001b[0ma2\u001b[0m\u001b[0;34m)\u001b[0m\u001b[0;34m,\u001b[0m \u001b[0;34m(\u001b[0m\u001b[0mb1\u001b[0m\u001b[0;34m,\u001b[0m \u001b[0mb2\u001b[0m\u001b[0;34m)\u001b[0m \u001b[0;34m=\u001b[0m \u001b[0mbox1\u001b[0m\u001b[0;34m[\u001b[0m\u001b[0;34m:\u001b[0m\u001b[0;34m,\u001b[0m \u001b[0;32mNone\u001b[0m\u001b[0;34m]\u001b[0m\u001b[0;34m.\u001b[0m\u001b[0mchunk\u001b[0m\u001b[0;34m(\u001b[0m\u001b[0;36m2\u001b[0m\u001b[0;34m,\u001b[0m \u001b[0;36m2\u001b[0m\u001b[0;34m)\u001b[0m\u001b[0;34m,\u001b[0m \u001b[0mbox2\u001b[0m\u001b[0;34m.\u001b[0m\u001b[0mchunk\u001b[0m\u001b[0;34m(\u001b[0m\u001b[0;36m2\u001b[0m\u001b[0;34m,\u001b[0m \u001b[0;36m1\u001b[0m\u001b[0;34m)\u001b[0m\u001b[0;34m\u001b[0m\u001b[0;34m\u001b[0m\u001b[0m\n\u001b[0;32m--> 270\u001b[0;31m     \u001b[0minter\u001b[0m \u001b[0;34m=\u001b[0m \u001b[0;34m(\u001b[0m\u001b[0mtorch\u001b[0m\u001b[0;34m.\u001b[0m\u001b[0mmin\u001b[0m\u001b[0;34m(\u001b[0m\u001b[0ma2\u001b[0m\u001b[0;34m,\u001b[0m \u001b[0mb2\u001b[0m\u001b[0;34m)\u001b[0m \u001b[0;34m-\u001b[0m \u001b[0mtorch\u001b[0m\u001b[0;34m.\u001b[0m\u001b[0mmax\u001b[0m\u001b[0;34m(\u001b[0m\u001b[0ma1\u001b[0m\u001b[0;34m,\u001b[0m \u001b[0mb1\u001b[0m\u001b[0;34m)\u001b[0m\u001b[0;34m)\u001b[0m\u001b[0;34m.\u001b[0m\u001b[0mclamp\u001b[0m\u001b[0;34m(\u001b[0m\u001b[0;36m0\u001b[0m\u001b[0;34m)\u001b[0m\u001b[0;34m.\u001b[0m\u001b[0mprod\u001b[0m\u001b[0;34m(\u001b[0m\u001b[0;36m2\u001b[0m\u001b[0;34m)\u001b[0m\u001b[0;34m\u001b[0m\u001b[0;34m\u001b[0m\u001b[0m\n\u001b[0m\u001b[1;32m    271\u001b[0m \u001b[0;34m\u001b[0m\u001b[0m\n\u001b[1;32m    272\u001b[0m     \u001b[0;31m# IoU = inter / (area1 + area2 - inter)\u001b[0m\u001b[0;34m\u001b[0m\u001b[0;34m\u001b[0m\u001b[0;34m\u001b[0m\u001b[0m\n",
            "\u001b[0;31mRuntimeError\u001b[0m: The size of tensor a (9) must match the size of tensor b (2) at non-singleton dimension 2"
          ]
        }
      ]
    },
    {
      "cell_type": "code",
      "source": [
        "# !python val.py --weights models/last_yolov5x_200epochs_freeze.pt --data source_dataset_v2_cropped_val.yaml --half --conf-thres 0.001 --iou 0.1 --img 2048 --single-cls\n",
        "# !python val.py --weights models/last_yolov5x_200epochs_freeze.pt --data source_dataset_v2.yaml --half --conf-thres 0.01 --img 2048\n",
        "# !python detect.py --weights ./models/last_yolov5x_200epochs_freeze.pt --source ../datasets/source_dataset_v2_cropped_val/valid/images --conf-thres 0.01 --iou 0.45 --img 2048"
      ],
      "metadata": {
        "id": "BXRYL7HvJWul"
      },
      "execution_count": null,
      "outputs": []
    },
    {
      "cell_type": "markdown",
      "metadata": {
        "id": "15glLzbQx5u0"
      },
      "source": [
        "## Visualization"
      ]
    },
    {
      "cell_type": "code",
      "source": [
        "%rm -r ./runs/comparison/\n",
        "%mkdir runs\n",
        "%mkdir runs/comparison"
      ],
      "metadata": {
        "colab": {
          "base_uri": "https://localhost:8080/"
        },
        "id": "ocPIOY5KgUU2",
        "outputId": "1c192ed0-abbb-4978-e20d-25ae9f02470f"
      },
      "execution_count": 12,
      "outputs": [
        {
          "output_type": "stream",
          "name": "stdout",
          "text": [
            "rm: cannot remove './runs/comparison/': No such file or directory\n",
            "mkdir: cannot create directory ‘runs’: File exists\n"
          ]
        }
      ]
    },
    {
      "cell_type": "code",
      "source": [
        "def draw_labels_and_top_predictions_for_single_image(results, labels_dir_path, labels_file_name):\n",
        "  top_predictions = get_denormalized_top_predictions_from_model_results(results)\n",
        "\n",
        "  img = get_image_from_model_results(results)\n",
        "  img_with_drawn_predictions = draw_predictions_on_image(img, top_predictions)\n",
        "\n",
        "  labels = load_labels(labels_dir_path, labels_file_name)\n",
        "  img_with_drawn_predictions_and_labels = draw_labels_on_image(img_with_drawn_predictions, labels)\n",
        "  \n",
        "  return img_with_drawn_predictions_and_labels"
      ],
      "metadata": {
        "id": "GlmWRMb4LwSv"
      },
      "execution_count": 26,
      "outputs": []
    },
    {
      "cell_type": "code",
      "source": [
        "def draw_labels_and_top_predictions(images_dir_path, labels_dir_path):\n",
        "  model = load_model()\n",
        "\n",
        "  for dir_entry in os.scandir(images_dir_path):\n",
        "    labels_file_name = dir_entry.name\n",
        "\n",
        "    results = model(dir_entry.path, size=2048)\n",
        "    img_with_drawn_predictions_and_labels = draw_labels_and_top_predictions_for_single_image(results, labels_dir_path, labels_file_name)\n",
        "    \n",
        "    file_path = Path('./runs') / 'comparison' / labels_file_name\n",
        "    cv2.imwrite(file_path, img_with_drawn_predictions_and_labels)\n",
        "  \n",
        "  print('Results saved to: /runs/comparison/')\n",
        "\n",
        "\n",
        "images_dir_path = '../datasets/source_dataset_v2_cropped_val/valid/images'\n",
        "labels_dir_path = '../datasets/source_dataset_v2_cropped_val/valid/labels'\n",
        "\n",
        "draw_labels_and_top_predictions(images_dir_path, labels_dir_path)\n"
      ],
      "metadata": {
        "id": "F_Kd0lEjAQNW",
        "colab": {
          "base_uri": "https://localhost:8080/"
        },
        "outputId": "0bea5b7b-848a-4cf4-83bd-d4eb963236c1"
      },
      "execution_count": 20,
      "outputs": [
        {
          "output_type": "stream",
          "name": "stderr",
          "text": [
            "\u001b[31m\u001b[1mrequirements:\u001b[0m PyYAML>=5.3.1 not found and is required by YOLOv5, attempting auto-update...\n",
            "Requirement already satisfied: PyYAML>=5.3.1 in /usr/local/lib/python3.7/dist-packages (6.0)\n",
            "\n",
            "\u001b[31m\u001b[1mrequirements:\u001b[0m 1 package updated per /content/yolov5/requirements.txt\n",
            "\u001b[31m\u001b[1mrequirements:\u001b[0m ⚠️ \u001b[1mRestart runtime or rerun command for updates to take effect\u001b[0m\n",
            "\n",
            "YOLOv5 🚀 v6.1-174-gc4cb7c6 torch 1.11.0+cu113 CUDA:0 (Tesla K80, 11441MiB)\n",
            "\n",
            "Fusing layers... \n",
            "Model summary: 444 layers, 86173414 parameters, 0 gradients\n",
            "Adding AutoShape... \n"
          ]
        },
        {
          "output_type": "stream",
          "name": "stdout",
          "text": [
            "Results saved to: /runs/comparison/\n"
          ]
        }
      ]
    }
  ],
  "metadata": {
    "accelerator": "GPU",
    "colab": {
      "collapsed_sections": [
        "yxtOa9U6l7I3",
        "ufNZIaoLltK_"
      ],
      "name": "Waldo Finder",
      "provenance": [],
      "machine_shape": "hm",
      "include_colab_link": true
    },
    "kernelspec": {
      "display_name": "Python 3",
      "name": "python3"
    }
  },
  "nbformat": 4,
  "nbformat_minor": 0
}